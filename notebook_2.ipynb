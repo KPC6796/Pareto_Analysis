{
 "cells": [
  {
   "cell_type": "code",
   "execution_count": 1,
   "metadata": {},
   "outputs": [],
   "source": [
    "import pandas as pd\n",
    "\n",
    "#create DataFrame\n",
    "df = pd.DataFrame({'count': [97, 140, 58, 6, 17, 32]})\n",
    "df.index = ['B', 'A', 'C', 'F', 'E', 'D']"
   ]
  },
  {
   "cell_type": "code",
   "execution_count": 2,
   "metadata": {},
   "outputs": [],
   "source": [
    "#sort DataFrame by count descending\n",
    "df = df.sort_values(by='count', ascending=False)"
   ]
  },
  {
   "cell_type": "code",
   "execution_count": 3,
   "metadata": {},
   "outputs": [],
   "source": [
    "#add column to display cumulative percentage\n",
    "df['cumperc'] = df['count'].cumsum()/df['count'].sum()*100"
   ]
  },
  {
   "cell_type": "code",
   "execution_count": 4,
   "metadata": {},
   "outputs": [
    {
     "data": {
      "text/html": [
       "<div>\n",
       "<style scoped>\n",
       "    .dataframe tbody tr th:only-of-type {\n",
       "        vertical-align: middle;\n",
       "    }\n",
       "\n",
       "    .dataframe tbody tr th {\n",
       "        vertical-align: top;\n",
       "    }\n",
       "\n",
       "    .dataframe thead th {\n",
       "        text-align: right;\n",
       "    }\n",
       "</style>\n",
       "<table border=\"1\" class=\"dataframe\">\n",
       "  <thead>\n",
       "    <tr style=\"text-align: right;\">\n",
       "      <th></th>\n",
       "      <th>count</th>\n",
       "      <th>cumperc</th>\n",
       "    </tr>\n",
       "  </thead>\n",
       "  <tbody>\n",
       "    <tr>\n",
       "      <th>A</th>\n",
       "      <td>140</td>\n",
       "      <td>40.000000</td>\n",
       "    </tr>\n",
       "    <tr>\n",
       "      <th>B</th>\n",
       "      <td>97</td>\n",
       "      <td>67.714286</td>\n",
       "    </tr>\n",
       "    <tr>\n",
       "      <th>C</th>\n",
       "      <td>58</td>\n",
       "      <td>84.285714</td>\n",
       "    </tr>\n",
       "    <tr>\n",
       "      <th>D</th>\n",
       "      <td>32</td>\n",
       "      <td>93.428571</td>\n",
       "    </tr>\n",
       "    <tr>\n",
       "      <th>E</th>\n",
       "      <td>17</td>\n",
       "      <td>98.285714</td>\n",
       "    </tr>\n",
       "    <tr>\n",
       "      <th>F</th>\n",
       "      <td>6</td>\n",
       "      <td>100.000000</td>\n",
       "    </tr>\n",
       "  </tbody>\n",
       "</table>\n",
       "</div>"
      ],
      "text/plain": [
       "   count     cumperc\n",
       "A    140   40.000000\n",
       "B     97   67.714286\n",
       "C     58   84.285714\n",
       "D     32   93.428571\n",
       "E     17   98.285714\n",
       "F      6  100.000000"
      ]
     },
     "execution_count": 4,
     "metadata": {},
     "output_type": "execute_result"
    }
   ],
   "source": [
    "#view DataFrame\n",
    "df"
   ]
  },
  {
   "cell_type": "code",
   "execution_count": 5,
   "metadata": {},
   "outputs": [
    {
     "data": {
      "image/png": "[encoded data removed]",
      "text/plain": [
       "<Figure size 432x288 with 2 Axes>"
      ]
     },
     "metadata": {
      "needs_background": "light"
     },
     "output_type": "display_data"
    }
   ],
   "source": [
    "## create the Pareto chart\n",
    "\n",
    "import matplotlib.pyplot as plt\n",
    "from matplotlib.ticker import PercentFormatter\n",
    "\n",
    "#define aesthetics for plot\n",
    "color1 = 'steelblue'\n",
    "color2 = 'red'\n",
    "line_size = 4\n",
    "\n",
    "#create basic bar plot\n",
    "fig, ax = plt.subplots()\n",
    "ax.bar(df.index, df['count'], color=color1)\n",
    "\n",
    "#add cumulative percentage line to plot\n",
    "ax2 = ax.twinx()\n",
    "ax2.plot(df.index, df['cumperc'], color=color2, marker=\"D\", ms=line_size)\n",
    "ax2.yaxis.set_major_formatter(PercentFormatter())\n",
    "\n",
    "#specify axis colors\n",
    "ax.tick_params(axis='y', colors=color1)\n",
    "ax2.tick_params(axis='y', colors=color2)\n",
    "\n",
    "#display Pareto chart\n",
    "plt.show()"
   ]
  },
  {
   "cell_type": "markdown",
   "metadata": {},
   "source": [
    "The x-axis displays the different brands ordered from highest to lowest frequency"
   ]
  },
  {
   "cell_type": "markdown",
   "metadata": {},
   "source": [
    "The left-hand y-axis shows the frequency of each brand and the right-hand y-axis shows the cumulative frequency of the brands."
   ]
  },
  {
   "cell_type": "markdown",
   "metadata": {},
   "source": [
    "For example, we can see:\n",
    "\n",
    "- Brand A accounts for about 40% of total survey responses.\n",
    "- Brands A and B account for about 70% of total survey responses.\n",
    "- Brands A, B, and C account for about 85% of total survey responses."
   ]
  },
  {
   "cell_type": "markdown",
   "metadata": {},
   "source": [
    "We could change the bars to be pink and change the line to be purple and slightly thicker"
   ]
  },
  {
   "cell_type": "code",
   "execution_count": 6,
   "metadata": {},
   "outputs": [
    {
     "data": {
      "image/png": "[encoded data removed]",
      "text/plain": [
       "<Figure size 432x288 with 2 Axes>"
      ]
     },
     "metadata": {},
     "output_type": "display_data"
    }
   ],
   "source": [
    "import matplotlib.pyplot as plt\n",
    "from matplotlib.ticker import PercentFormatter\n",
    "\n",
    "#define aesthetics for plot\n",
    "color1 = 'pink'\n",
    "color2 = 'purple'\n",
    "line_size = 6\n",
    "\n",
    "#create basic bar plot\n",
    "fig, ax = plt.subplots()\n",
    "ax.bar(df.index, df['count'], color=color1)\n",
    "\n",
    "#add cumulative percentage line to plot\n",
    "ax2 = ax.twinx()\n",
    "ax2.plot(df.index, df['cumperc'], color=color2, marker=\"D\", ms=line_size)\n",
    "ax2.yaxis.set_major_formatter(PercentFormatter())\n",
    "\n",
    "#specify axis colors\n",
    "ax.tick_params(axis='y', colors=color1)\n",
    "ax2.tick_params(axis='y', colors=color2)\n",
    "\n",
    "#display Pareto chart\n",
    "plt.show()"
   ]
  }
 ],
 "metadata": {
  "interpreter": {
   "hash": "06ef7c72ea0fbf6aadbb96241f80366349443c1d206a5cee1b7aaf947634740b"
  },
  "kernelspec": {
   "display_name": "Python 3.9.7 ('kamenv')",
   "language": "python",
   "name": "python3"
  },
  "language_info": {
   "codemirror_mode": {
    "name": "ipython",
    "version": 3
   },
   "file_extension": ".py",
   "mimetype": "text/x-python",
   "name": "python",
   "nbconvert_exporter": "python",
   "pygments_lexer": "ipython3",
   "version": "3.9.7"
  },
  "orig_nbformat": 4
 },
 "nbformat": 4,
 "nbformat_minor": 2
}
